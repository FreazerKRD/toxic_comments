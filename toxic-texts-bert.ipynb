{
 "cells": [
  {
   "cell_type": "markdown",
   "metadata": {
    "toc": true
   },
   "source": [
    "<h1>Содержание<span class=\"tocSkip\"></span></h1>\n",
    "<div class=\"toc\"><ul class=\"toc-item\"><li><span><a href=\"#Подготовка-данных\" data-toc-modified-id=\"Подготовка-данных-1\"><span class=\"toc-item-num\">1&nbsp;&nbsp;</span>Подготовка данных</a></span></li><li><span><a href=\"#Обучение\" data-toc-modified-id=\"Обучение-2\"><span class=\"toc-item-num\">2&nbsp;&nbsp;</span>Обучение</a></span><ul class=\"toc-item\"><li><span><a href=\"#Catboost\" data-toc-modified-id=\"Catboost-2.1\"><span class=\"toc-item-num\">2.1&nbsp;&nbsp;</span>Catboost</a></span></li><li><span><a href=\"#LightGBM\" data-toc-modified-id=\"LightGBM-2.2\"><span class=\"toc-item-num\">2.2&nbsp;&nbsp;</span>LightGBM</a></span></li><li><span><a href=\"#XGBoost\" data-toc-modified-id=\"XGBoost-2.3\"><span class=\"toc-item-num\">2.3&nbsp;&nbsp;</span>XGBoost</a></span></li><li><span><a href=\"#Логистическая-регрессия\" data-toc-modified-id=\"Логистическая-регрессия-2.4\"><span class=\"toc-item-num\">2.4&nbsp;&nbsp;</span>Логистическая регрессия</a></span></li></ul></li><li><span><a href=\"#Выводы\" data-toc-modified-id=\"Выводы-3\"><span class=\"toc-item-num\">3&nbsp;&nbsp;</span>Выводы</a></span></li></ul></div>"
   ]
  },
  {
   "cell_type": "markdown",
   "metadata": {},
   "source": [
    "# Проект для «Викишоп» с BERT"
   ]
  },
  {
   "cell_type": "markdown",
   "metadata": {},
   "source": [
    "Интернет-магазин «Викишоп» запускает новый сервис. Теперь пользователи могут редактировать и дополнять описания товаров, как в вики-сообществах. То есть, клиенты предлагают свои правки и комментируют изменения других. Магазину нужен инструмент, который будет определять токсичные комментарии и отправлять их на модерацию. \n",
    "\n",
    "Обучим модель классифицировать комментарии на позитивные и негативные. В нашем распоряжении набор данных с разметкой о токсичности правок.\n",
    "\n",
    "Построим модель со значением метрики качества *F1* не менее 0.75. "
   ]
  },
  {
   "cell_type": "markdown",
   "metadata": {},
   "source": [
    "## Подготовка данных"
   ]
  },
  {
   "cell_type": "code",
   "execution_count": 1,
   "metadata": {
    "execution": {
     "iopub.execute_input": "2023-05-13T11:29:11.180893Z",
     "iopub.status.busy": "2023-05-13T11:29:11.180460Z",
     "iopub.status.idle": "2023-05-13T11:29:55.092585Z",
     "shell.execute_reply": "2023-05-13T11:29:55.091384Z",
     "shell.execute_reply.started": "2023-05-13T11:29:11.180856Z"
    }
   },
   "outputs": [
    {
     "name": "stdout",
     "output_type": "stream",
     "text": [
      "Requirement already satisfied: catboost==1.1.1 in /opt/conda/lib/python3.10/site-packages (1.1.1)\n",
      "Requirement already satisfied: matplotlib in /opt/conda/lib/python3.10/site-packages (from catboost==1.1.1) (3.6.3)\n",
      "Requirement already satisfied: graphviz in /opt/conda/lib/python3.10/site-packages (from catboost==1.1.1) (0.20.1)\n",
      "Requirement already satisfied: plotly in /opt/conda/lib/python3.10/site-packages (from catboost==1.1.1) (5.14.1)\n",
      "Requirement already satisfied: six in /opt/conda/lib/python3.10/site-packages (from catboost==1.1.1) (1.16.0)\n",
      "Requirement already satisfied: numpy>=1.16.0 in /opt/conda/lib/python3.10/site-packages (from catboost==1.1.1) (1.23.5)\n",
      "Requirement already satisfied: pandas>=0.24.0 in /opt/conda/lib/python3.10/site-packages (from catboost==1.1.1) (1.5.3)\n",
      "Requirement already satisfied: scipy in /opt/conda/lib/python3.10/site-packages (from catboost==1.1.1) (1.9.3)\n",
      "Requirement already satisfied: python-dateutil>=2.8.1 in /opt/conda/lib/python3.10/site-packages (from pandas>=0.24.0->catboost==1.1.1) (2.8.2)\n",
      "Requirement already satisfied: pytz>=2020.1 in /opt/conda/lib/python3.10/site-packages (from pandas>=0.24.0->catboost==1.1.1) (2023.3)\n",
      "Requirement already satisfied: kiwisolver>=1.0.1 in /opt/conda/lib/python3.10/site-packages (from matplotlib->catboost==1.1.1) (1.4.4)\n",
      "Requirement already satisfied: pyparsing>=2.2.1 in /opt/conda/lib/python3.10/site-packages (from matplotlib->catboost==1.1.1) (3.0.9)\n",
      "Requirement already satisfied: fonttools>=4.22.0 in /opt/conda/lib/python3.10/site-packages (from matplotlib->catboost==1.1.1) (4.39.3)\n",
      "Requirement already satisfied: cycler>=0.10 in /opt/conda/lib/python3.10/site-packages (from matplotlib->catboost==1.1.1) (0.11.0)\n",
      "Requirement already satisfied: packaging>=20.0 in /opt/conda/lib/python3.10/site-packages (from matplotlib->catboost==1.1.1) (21.3)\n",
      "Requirement already satisfied: pillow>=6.2.0 in /opt/conda/lib/python3.10/site-packages (from matplotlib->catboost==1.1.1) (9.5.0)\n",
      "Requirement already satisfied: contourpy>=1.0.1 in /opt/conda/lib/python3.10/site-packages (from matplotlib->catboost==1.1.1) (1.0.7)\n",
      "Requirement already satisfied: tenacity>=6.2.0 in /opt/conda/lib/python3.10/site-packages (from plotly->catboost==1.1.1) (8.2.2)\n",
      "\u001b[33mWARNING: Running pip as the 'root' user can result in broken permissions and conflicting behaviour with the system package manager. It is recommended to use a virtual environment instead: https://pip.pypa.io/warnings/venv\u001b[0m\u001b[33m\n",
      "\u001b[0mRequirement already satisfied: xgboost==1.7.5 in /opt/conda/lib/python3.10/site-packages (1.7.5)\n",
      "Requirement already satisfied: scipy in /opt/conda/lib/python3.10/site-packages (from xgboost==1.7.5) (1.9.3)\n",
      "Requirement already satisfied: numpy in /opt/conda/lib/python3.10/site-packages (from xgboost==1.7.5) (1.23.5)\n",
      "\u001b[33mWARNING: Running pip as the 'root' user can result in broken permissions and conflicting behaviour with the system package manager. It is recommended to use a virtual environment instead: https://pip.pypa.io/warnings/venv\u001b[0m\u001b[33m\n",
      "\u001b[0mRequirement already satisfied: lightgbm==3.3.5 in /opt/conda/lib/python3.10/site-packages (3.3.5)\n",
      "Requirement already satisfied: numpy in /opt/conda/lib/python3.10/site-packages (from lightgbm==3.3.5) (1.23.5)\n",
      "Requirement already satisfied: wheel in /opt/conda/lib/python3.10/site-packages (from lightgbm==3.3.5) (0.40.0)\n",
      "Requirement already satisfied: scipy in /opt/conda/lib/python3.10/site-packages (from lightgbm==3.3.5) (1.9.3)\n",
      "Requirement already satisfied: scikit-learn!=0.22.0 in /opt/conda/lib/python3.10/site-packages (from lightgbm==3.3.5) (1.2.2)\n",
      "Requirement already satisfied: threadpoolctl>=2.0.0 in /opt/conda/lib/python3.10/site-packages (from scikit-learn!=0.22.0->lightgbm==3.3.5) (3.1.0)\n",
      "Requirement already satisfied: joblib>=1.1.1 in /opt/conda/lib/python3.10/site-packages (from scikit-learn!=0.22.0->lightgbm==3.3.5) (1.2.0)\n",
      "\u001b[33mWARNING: Running pip as the 'root' user can result in broken permissions and conflicting behaviour with the system package manager. It is recommended to use a virtual environment instead: https://pip.pypa.io/warnings/venv\u001b[0m\u001b[33m\n",
      "\u001b[0mRequirement already satisfied: scikit-learn==1.2.2 in /opt/conda/lib/python3.10/site-packages (1.2.2)\n",
      "Requirement already satisfied: joblib>=1.1.1 in /opt/conda/lib/python3.10/site-packages (from scikit-learn==1.2.2) (1.2.0)\n",
      "Requirement already satisfied: threadpoolctl>=2.0.0 in /opt/conda/lib/python3.10/site-packages (from scikit-learn==1.2.2) (3.1.0)\n",
      "Requirement already satisfied: numpy>=1.17.3 in /opt/conda/lib/python3.10/site-packages (from scikit-learn==1.2.2) (1.23.5)\n",
      "Requirement already satisfied: scipy>=1.3.2 in /opt/conda/lib/python3.10/site-packages (from scikit-learn==1.2.2) (1.9.3)\n",
      "\u001b[33mWARNING: Running pip as the 'root' user can result in broken permissions and conflicting behaviour with the system package manager. It is recommended to use a virtual environment instead: https://pip.pypa.io/warnings/venv\u001b[0m\u001b[33m\n",
      "\u001b[0m"
     ]
    }
   ],
   "source": [
    "!pip install catboost==1.1.1\n",
    "!pip install xgboost==1.7.5\n",
    "!pip install lightgbm==3.3.5\n",
    "!pip install scikit-learn==1.2.2"
   ]
  },
  {
   "cell_type": "code",
   "execution_count": 2,
   "metadata": {
    "execution": {
     "iopub.execute_input": "2023-05-13T11:29:55.096464Z",
     "iopub.status.busy": "2023-05-13T11:29:55.095417Z",
     "iopub.status.idle": "2023-05-13T11:30:01.591455Z",
     "shell.execute_reply": "2023-05-13T11:30:01.590340Z",
     "shell.execute_reply.started": "2023-05-13T11:29:55.096423Z"
    }
   },
   "outputs": [
    {
     "name": "stderr",
     "output_type": "stream",
     "text": [
      "/opt/conda/lib/python3.10/site-packages/scipy/__init__.py:146: UserWarning: A NumPy version >=1.16.5 and <1.23.0 is required for this version of SciPy (detected version 1.23.5\n",
      "  warnings.warn(f\"A NumPy version >={np_minversion} and <{np_maxversion}\"\n"
     ]
    }
   ],
   "source": [
    "# Импортируем необходимые библиотеки\n",
    "import os\n",
    "import numpy as np\n",
    "import pandas as pd\n",
    "import math\n",
    "import torch\n",
    "import re\n",
    "import time\n",
    "import transformers as ppb # pytorch transformers\n",
    "import xgboost as xgb\n",
    "import catboost as cb\n",
    "import lightgbm as lgb\n",
    "import nltk\n",
    "import string\n",
    "from transformers import AutoModel, AutoTokenizer\n",
    "from nltk.corpus import stopwords\n",
    "from nltk.tokenize import word_tokenize\n",
    "from datetime import datetime\n",
    "from sklearn.linear_model import LogisticRegression\n",
    "from sklearn.model_selection import (train_test_split,\n",
    "                                     GridSearchCV, \n",
    "                                     cross_val_score,\n",
    "                                     RandomizedSearchCV\n",
    "                                    )\n",
    "from sklearn.ensemble import VotingClassifier\n",
    "from sklearn.metrics import (accuracy_score, \n",
    "                             f1_score, \n",
    "                             classification_report)\n",
    "from sklearn.dummy import DummyClassifier\n",
    "from sklearn.utils import resample\n",
    "from sklearn.utils.class_weight import compute_class_weight\n",
    "from tqdm import notebook, tqdm"
   ]
  },
  {
   "cell_type": "code",
   "execution_count": 3,
   "metadata": {
    "execution": {
     "iopub.execute_input": "2023-05-13T11:30:01.596379Z",
     "iopub.status.busy": "2023-05-13T11:30:01.595510Z",
     "iopub.status.idle": "2023-05-13T11:30:02.851315Z",
     "shell.execute_reply": "2023-05-13T11:30:02.850221Z",
     "shell.execute_reply.started": "2023-05-13T11:30:01.596345Z"
    }
   },
   "outputs": [
    {
     "name": "stdout",
     "output_type": "stream",
     "text": [
      "dataset loaded from cache\n",
      "Размер датафрейма: (159292, 2)\n",
      "Пропуски: text     0\n",
      "toxic    0\n",
      "dtype: int64\n",
      "Дубликаты: 0\n"
     ]
    },
    {
     "data": {
      "text/html": [
       "<div>\n",
       "<style scoped>\n",
       "    .dataframe tbody tr th:only-of-type {\n",
       "        vertical-align: middle;\n",
       "    }\n",
       "\n",
       "    .dataframe tbody tr th {\n",
       "        vertical-align: top;\n",
       "    }\n",
       "\n",
       "    .dataframe thead th {\n",
       "        text-align: right;\n",
       "    }\n",
       "</style>\n",
       "<table border=\"1\" class=\"dataframe\">\n",
       "  <thead>\n",
       "    <tr style=\"text-align: right;\">\n",
       "      <th></th>\n",
       "      <th>text</th>\n",
       "      <th>toxic</th>\n",
       "    </tr>\n",
       "  </thead>\n",
       "  <tbody>\n",
       "    <tr>\n",
       "      <th>61925</th>\n",
       "      <td>\"\\n\\n The POV statements in question are your ...</td>\n",
       "      <td>0</td>\n",
       "    </tr>\n",
       "    <tr>\n",
       "      <th>102558</th>\n",
       "      <td>gen xer here\\n-\\nto me everyone is gonna have ...</td>\n",
       "      <td>0</td>\n",
       "    </tr>\n",
       "    <tr>\n",
       "      <th>115262</th>\n",
       "      <td>And I'm removing: it is accessible from the of...</td>\n",
       "      <td>0</td>\n",
       "    </tr>\n",
       "    <tr>\n",
       "      <th>126426</th>\n",
       "      <td>December 2009 ==\\n\\nPlease provide the actual ...</td>\n",
       "      <td>0</td>\n",
       "    </tr>\n",
       "    <tr>\n",
       "      <th>60967</th>\n",
       "      <td>\"\\n\\n I've been banned (permanently?) from Wik...</td>\n",
       "      <td>0</td>\n",
       "    </tr>\n",
       "  </tbody>\n",
       "</table>\n",
       "</div>"
      ],
      "text/plain": [
       "                                                     text  toxic\n",
       "61925   \"\\n\\n The POV statements in question are your ...      0\n",
       "102558  gen xer here\\n-\\nto me everyone is gonna have ...      0\n",
       "115262  And I'm removing: it is accessible from the of...      0\n",
       "126426  December 2009 ==\\n\\nPlease provide the actual ...      0\n",
       "60967   \"\\n\\n I've been banned (permanently?) from Wik...      0"
      ]
     },
     "execution_count": 3,
     "metadata": {},
     "output_type": "execute_result"
    }
   ],
   "source": [
    "# Создать локальную директорию datasets, если она отсутствует\n",
    "try:\n",
    "    os.makedirs('datasets')\n",
    "except IOError:\n",
    "    pass\n",
    "\n",
    "# Загрузка сырых данных\n",
    "local_data = 'datasets/toxic_comments.csv'\n",
    "try:\n",
    "    df = pd.read_csv(local_data)\n",
    "    print('dataset loaded from cache')\n",
    "except IOError:\n",
    "    print('downloading dataset...')\n",
    "    df = pd.read_csv('https://code.s3.yandex.net/datasets/toxic_comments.csv')\n",
    "    df = df.drop(df.columns[0], axis=1)\n",
    "    df.to_csv(local_data, index=False)\n",
    "    print('dataset downloaded and saved to cache')\n",
    "\n",
    "# Посмотрим основную информацию о датафрейме\n",
    "print('Размер датафрейма:', df.shape)\n",
    "print('Пропуски:', df.isna().sum())\n",
    "print('Дубликаты:', df.duplicated().sum())\n",
    "df.sample(5)"
   ]
  },
  {
   "cell_type": "markdown",
   "metadata": {},
   "source": [
    "**Создадим функцию для предварительной обработки датафрейма.**"
   ]
  },
  {
   "cell_type": "code",
   "execution_count": 4,
   "metadata": {
    "execution": {
     "iopub.execute_input": "2023-05-13T11:30:02.855425Z",
     "iopub.status.busy": "2023-05-13T11:30:02.854586Z",
     "iopub.status.idle": "2023-05-13T11:30:03.011740Z",
     "shell.execute_reply": "2023-05-13T11:30:03.010685Z",
     "shell.execute_reply.started": "2023-05-13T11:30:02.855384Z"
    }
   },
   "outputs": [
    {
     "name": "stdout",
     "output_type": "stream",
     "text": [
      "[nltk_data] Downloading package punkt to /usr/share/nltk_data...\n",
      "[nltk_data]   Package punkt is already up-to-date!\n",
      "[nltk_data] Downloading package stopwords to /usr/share/nltk_data...\n",
      "[nltk_data]   Package stopwords is already up-to-date!\n"
     ]
    }
   ],
   "source": [
    "nltk.download('punkt')\n",
    "nltk.download('stopwords')\n",
    "\n",
    "def remove_ip_addresses(text):\n",
    "    # Define a regular expression for matching IP addresses\n",
    "    ip_regex = r'\\b(?:\\d{1,3}\\.){3}\\d{1,3}\\b'\n",
    "    # Replace all occurrences of IP addresses with an empty string\n",
    "    return re.sub(ip_regex, '', text)\n",
    "\n",
    "def preprocess_text(df):\n",
    "    \"\"\"\n",
    "    The function preprocesses all textual columns in the DataFrame:\n",
    "    - removes stop words\n",
    "    - removes newline characters\n",
    "    - removes punctuation\n",
    "    - converts text to lower case\n",
    "    \"\"\"\n",
    "    # Initialize the set of stop words\n",
    "    stop_words = set(stopwords.words('english'))\n",
    "    \n",
    "    # Iterate over all columns in the DataFrame\n",
    "    for col in df.columns:\n",
    "        # Only consider string columns\n",
    "        if df[col].dtype == 'object':\n",
    "            \n",
    "            # Apply preprocessing steps to each cell in the column\n",
    "            df[col] = df[col].apply(lambda x: \n",
    "                                    remove_ip_addresses(\n",
    "                                    ' '.join([\n",
    "                                        word for word in word_tokenize(str(x).lower()) \n",
    "                                        if word not in stop_words and word not in string.punctuation and word != '\\n'\n",
    "                                            ])\n",
    "                                       )\n",
    "                                   )\n",
    "                # Use tqdm to track progress\n",
    "            df[col] = tqdm(df[col], desc=f\"Processing {col}\")\n",
    "    return df"
   ]
  },
  {
   "cell_type": "code",
   "execution_count": 5,
   "metadata": {
    "execution": {
     "iopub.execute_input": "2023-05-13T11:30:03.013921Z",
     "iopub.status.busy": "2023-05-13T11:30:03.013073Z",
     "iopub.status.idle": "2023-05-13T11:32:40.970372Z",
     "shell.execute_reply": "2023-05-13T11:32:40.969314Z",
     "shell.execute_reply.started": "2023-05-13T11:30:03.013882Z"
    }
   },
   "outputs": [
    {
     "name": "stderr",
     "output_type": "stream",
     "text": [
      "Processing text: 100%|██████████| 159292/159292 [00:00<00:00, 1573103.48it/s]\n"
     ]
    }
   ],
   "source": [
    "# Сделаем предобработку текста в датафрейме\n",
    "df = preprocess_text(df.copy())"
   ]
  },
  {
   "cell_type": "code",
   "execution_count": 6,
   "metadata": {
    "execution": {
     "iopub.execute_input": "2023-05-13T11:32:40.972968Z",
     "iopub.status.busy": "2023-05-13T11:32:40.972324Z",
     "iopub.status.idle": "2023-05-13T11:32:41.141674Z",
     "shell.execute_reply": "2023-05-13T11:32:41.140716Z",
     "shell.execute_reply.started": "2023-05-13T11:32:40.972918Z"
    }
   },
   "outputs": [
    {
     "data": {
      "text/plain": [
       "<AxesSubplot: title={'center': 'Баланс классов'}, ylabel='toxic'>"
      ]
     },
     "execution_count": 6,
     "metadata": {},
     "output_type": "execute_result"
    },
    {
     "data": {
      "image/png": "[encoded data removed]",
      "text/plain": [
       "<Figure size 640x480 with 1 Axes>"
      ]
     },
     "metadata": {},
     "output_type": "display_data"
    }
   ],
   "source": [
    "# Рассмотрим сбалансированность классов\n",
    "df['toxic'].value_counts(normalize=True).plot(kind='pie', autopct='%1.0f%%', title='Баланс классов')"
   ]
  },
  {
   "cell_type": "markdown",
   "metadata": {},
   "source": [
    "**В данных присутствует сильный дисбаланс классов. Устраним его после создания эмбеддингов и разбиения на выборки.**"
   ]
  },
  {
   "cell_type": "markdown",
   "metadata": {},
   "source": [
    "**Создадим эмбеддинги с помощью предобученной модели BERT.**"
   ]
  },
  {
   "cell_type": "code",
   "execution_count": 7,
   "metadata": {
    "execution": {
     "iopub.execute_input": "2023-05-13T11:32:41.144123Z",
     "iopub.status.busy": "2023-05-13T11:32:41.143396Z",
     "iopub.status.idle": "2023-05-13T11:32:51.506899Z",
     "shell.execute_reply": "2023-05-13T11:32:51.505904Z",
     "shell.execute_reply.started": "2023-05-13T11:32:41.144087Z"
    }
   },
   "outputs": [
    {
     "name": "stderr",
     "output_type": "stream",
     "text": [
      "Some weights of the model checkpoint at unitary/toxic-bert were not used when initializing BertModel: ['classifier.bias', 'classifier.weight']\n",
      "- This IS expected if you are initializing BertModel from the checkpoint of a model trained on another task or with another architecture (e.g. initializing a BertForSequenceClassification model from a BertForPreTraining model).\n",
      "- This IS NOT expected if you are initializing BertModel from the checkpoint of a model that you expect to be exactly identical (initializing a BertForSequenceClassification model from a BertForSequenceClassification model).\n"
     ]
    }
   ],
   "source": [
    "# Необходимо раскоментировать строки с нужной моделью BERT\n",
    "# Использование модели BERT\n",
    "#model_class, tokenizer_class, pretrained_weights = (ppb.BertModel, ppb.BertTokenizer, 'bert-base-uncased')\n",
    "\n",
    "# Использование модели DistilBERT\n",
    "#model_class, tokenizer_class, pretrained_weights = (ppb.DistilBertModel, ppb.DistilBertTokenizer, 'distilbert-base-uncased')\n",
    "\n",
    "# Загрузка предобученной модели/токенизатора для BERT или DistilBERT\n",
    "# tokenizer = tokenizer_class.from_pretrained(pretrained_weights)\n",
    "# model = model_class.from_pretrained(pretrained_weights)\n",
    "\n",
    "# Использование модели toxic-BERT\n",
    "model_name = \"unitary/toxic-bert\" \n",
    "model = AutoModel.from_pretrained(model_name)\n",
    "tokenizer = AutoTokenizer.from_pretrained(model_name)"
   ]
  },
  {
   "cell_type": "code",
   "execution_count": 8,
   "metadata": {
    "execution": {
     "iopub.execute_input": "2023-05-13T11:32:51.508751Z",
     "iopub.status.busy": "2023-05-13T11:32:51.508180Z",
     "iopub.status.idle": "2023-05-13T11:32:54.262710Z",
     "shell.execute_reply": "2023-05-13T11:32:54.261699Z",
     "shell.execute_reply.started": "2023-05-13T11:32:51.508716Z"
    }
   },
   "outputs": [
    {
     "name": "stdout",
     "output_type": "stream",
     "text": [
      "Padded array loaded from cache.\n"
     ]
    }
   ],
   "source": [
    "try:\n",
    "    # try to load from preprocessed ndarray file\n",
    "    padded = np.load('datasets/padded.npy')\n",
    "    print('Padded array loaded from cache.')\n",
    "except IOError:\n",
    "    # Сделаем токенизацию\n",
    "    print('Making tokenization...')\n",
    "    tokenized = df['text'].apply((lambda x: tokenizer.encode(x[:512], add_special_tokens=True)))\n",
    "    \n",
    "    # Найдём максимальную длину списка\n",
    "    max_len = len(max(tokenized, key=len))\n",
    "\n",
    "    # Приведем весь список к одинаковой длине\n",
    "    padded = np.array([i + [0]*(max_len - len(i)) for i in tokenized.values])\n",
    "    \n",
    "    # Сохраним массив в кеш\n",
    "    np.save('datasets/padded.npy', padded)\n",
    "    print('padded array saved to cache.')\n",
    "    \n",
    "attention_mask = np.where(padded != 0, 1, 0)"
   ]
  },
  {
   "cell_type": "code",
   "execution_count": 9,
   "metadata": {
    "execution": {
     "iopub.execute_input": "2023-05-13T11:32:54.264678Z",
     "iopub.status.busy": "2023-05-13T11:32:54.264280Z",
     "iopub.status.idle": "2023-05-13T11:32:54.281463Z",
     "shell.execute_reply": "2023-05-13T11:32:54.280139Z",
     "shell.execute_reply.started": "2023-05-13T11:32:54.264641Z"
    }
   },
   "outputs": [],
   "source": [
    "def timer(func):\n",
    "    \"\"\"Timer decorator\"\"\"\n",
    "    def wrapper(*args, **kwargs):\n",
    "        start = datetime.now()\n",
    "        result = func(*args, **kwargs)\n",
    "        total_time = (datetime.now() - start).total_seconds()\n",
    "        print(f'Total timelimit: {total_time}')\n",
    "        return result\n",
    "    return wrapper\n",
    "\n",
    "@timer\n",
    "def make_features(model, padded, attention_mask, batch_size: int, use_cache:bool = True, mmap_mode:bool = False) -> np.ndarray:\n",
    "    \"\"\"Function makes features from padded array\n",
    "\n",
    "    Args:\n",
    "        model (torch model): pretrained torch model\n",
    "        padded (ndarry): padded array\n",
    "        attention_mask (ndarray): attention mask\n",
    "        batch_size (int): batch size for prediction\n",
    "        use_cache (bool, optional): use cahce for save/load file. Defaults to True.\n",
    "        mmap_mode (bool, optional): Read or load features file from cache. Defaults to False.\n",
    "\n",
    "    Returns:\n",
    "        np.ndarray: features array\n",
    "    \"\"\"\n",
    "    if use_cache:\n",
    "        try:\n",
    "            # try to load embeddings from ndarray file\n",
    "            if mmap_mode:\n",
    "                features = np.load('datasets/features.npy', mmap_mode='r')\n",
    "            else:\n",
    "                features = np.load('datasets/features.npy')\n",
    "            print('Features loaded from cache.')\n",
    "            return features\n",
    "        except IOError:\n",
    "            pass      \n",
    "            \n",
    "    cuda_available = torch.cuda.is_available()\n",
    "    if cuda_available:\n",
    "        # Select first CUDA device\n",
    "        device = torch.device(\"cuda:0\")\n",
    "        print(\"Используется устройство:\", torch.cuda.get_device_name(device))\n",
    "\n",
    "        # move model to CUDA device\n",
    "        model = model.to(device)\n",
    "\n",
    "    embeddings = []\n",
    "    loop_range = range(math.ceil(padded.shape[0] / batch_size))\n",
    "    timer_arr = [] # array for calculate execution time\n",
    "    for i in loop_range:\n",
    "        timer = datetime.now()\n",
    "        batch = torch.LongTensor(padded[batch_size*i:batch_size*(i+1)]) \n",
    "        attention_mask_batch = torch.LongTensor(attention_mask[batch_size*i:batch_size*(i+1)])\n",
    "        \n",
    "        if cuda_available:\n",
    "            # move tensors to CUDA device\n",
    "            batch = batch.to(device)\n",
    "            attention_mask_batch = attention_mask_batch.to(device)\n",
    "            \n",
    "        with torch.no_grad():\n",
    "            batch_embeddings = model(batch, attention_mask=attention_mask_batch)\n",
    "            \n",
    "        # .cpu() method needs if CUDA device used\n",
    "        embeddings.append(batch_embeddings[0][:,0,:].cpu().numpy())\n",
    "        \n",
    "        timer_arr.append((datetime.now() - timer).total_seconds())\n",
    "        \n",
    "        # print statistic\n",
    "        if i%100 == 0:\n",
    "            mean_iteration_time = np.array(timer_arr).mean()\n",
    "            timeleft = int((len(loop_range) - i) * mean_iteration_time)\n",
    "            print(f'{i}/{len(loop_range)} timeleft {timeleft} sec.')\n",
    "    \n",
    "    features = np.concatenate(embeddings)\n",
    "    \n",
    "    if use_cache:\n",
    "        # Save array to cache\n",
    "        np.save('datasets/features.npy', features)\n",
    "        print('features array saved to cache.')\n",
    "    \n",
    "    return features\n",
    "    "
   ]
  },
  {
   "cell_type": "code",
   "execution_count": 10,
   "metadata": {
    "execution": {
     "iopub.execute_input": "2023-05-13T11:32:54.287625Z",
     "iopub.status.busy": "2023-05-13T11:32:54.287280Z",
     "iopub.status.idle": "2023-05-13T11:32:56.601573Z",
     "shell.execute_reply": "2023-05-13T11:32:56.600312Z",
     "shell.execute_reply.started": "2023-05-13T11:32:54.287585Z"
    }
   },
   "outputs": [
    {
     "name": "stdout",
     "output_type": "stream",
     "text": [
      "Features loaded from cache.\n",
      "Total timelimit: 2.3021\n"
     ]
    }
   ],
   "source": [
    "# Создадим эмбеддинги\n",
    "features = make_features(model, padded, attention_mask, 128)"
   ]
  },
  {
   "cell_type": "code",
   "execution_count": 11,
   "metadata": {
    "execution": {
     "iopub.execute_input": "2023-05-13T11:32:56.603786Z",
     "iopub.status.busy": "2023-05-13T11:32:56.602894Z",
     "iopub.status.idle": "2023-05-13T11:32:57.012313Z",
     "shell.execute_reply": "2023-05-13T11:32:57.011128Z",
     "shell.execute_reply.started": "2023-05-13T11:32:56.603749Z"
    }
   },
   "outputs": [
    {
     "name": "stdout",
     "output_type": "stream",
     "text": [
      "Размеры выборок: (113415, 768) (14018, 768) (31859, 768)\n"
     ]
    }
   ],
   "source": [
    "# Разобьём данные на выборки c фичами от модели BERT\n",
    "X_train, X_test, y_train, y_test = train_test_split(\n",
    "    features, df['toxic'], test_size=0.2, stratify=df['toxic'])\n",
    "X_train, X_valid, y_train, y_valid = train_test_split(\n",
    "    X_train, y_train, test_size=0.11, stratify=y_train)\n",
    "\n",
    "print('Размеры выборок:', X_train.shape, X_valid.shape, X_test.shape)"
   ]
  },
  {
   "cell_type": "code",
   "execution_count": 12,
   "metadata": {
    "execution": {
     "iopub.execute_input": "2023-05-13T11:32:57.014423Z",
     "iopub.status.busy": "2023-05-13T11:32:57.013843Z",
     "iopub.status.idle": "2023-05-13T11:32:57.190608Z",
     "shell.execute_reply": "2023-05-13T11:32:57.189622Z",
     "shell.execute_reply.started": "2023-05-13T11:32:57.014375Z"
    }
   },
   "outputs": [],
   "source": [
    "# Undersampling для преобладающего класса\n",
    "X_train_majority = X_train[y_train==0]\n",
    "X_train_minority = X_train[y_train==1]\n",
    "X_train_majority_downsampled = resample(X_train_majority, n_samples=len(X_train_minority), random_state=42)\n",
    "X_train_downsampled = np.concatenate((X_train_majority_downsampled, X_train_minority), axis=0)\n",
    "y_train_downsampled = np.concatenate((np.zeros(len(X_train_majority_downsampled)), np.ones(len(X_train_minority))), axis=0)\n",
    "\n",
    "# Вычисление весов классов\n",
    "class_weights = compute_class_weight('balanced', classes=np.unique(y_train), y=y_train)"
   ]
  },
  {
   "cell_type": "code",
   "execution_count": 13,
   "metadata": {
    "execution": {
     "iopub.execute_input": "2023-05-13T11:32:57.192539Z",
     "iopub.status.busy": "2023-05-13T11:32:57.192075Z",
     "iopub.status.idle": "2023-05-13T11:32:57.316175Z",
     "shell.execute_reply": "2023-05-13T11:32:57.314907Z",
     "shell.execute_reply.started": "2023-05-13T11:32:57.192502Z"
    }
   },
   "outputs": [
    {
     "name": "stdout",
     "output_type": "stream",
     "text": [
      "Длина оригинальной выборки 113415\n",
      "Длина undersampled выборки 23050\n"
     ]
    },
    {
     "data": {
      "text/plain": [
       "<AxesSubplot: title={'center': 'Баланс классов'}>"
      ]
     },
     "execution_count": 13,
     "metadata": {},
     "output_type": "execute_result"
    },
    {
     "data": {
      "image/png": "[encoded data removed]",
      "text/plain": [
       "<Figure size 640x480 with 1 Axes>"
      ]
     },
     "metadata": {},
     "output_type": "display_data"
    }
   ],
   "source": [
    "# Проверим сбалансированность классов\n",
    "print('Длина оригинальной выборки', len(y_train))\n",
    "print('Длина undersampled выборки', len(y_train_downsampled))\n",
    "pd.Series(y_train_downsampled).value_counts(normalize=True).plot(kind='pie', autopct='%1.0f%%', title='Баланс классов')"
   ]
  },
  {
   "cell_type": "markdown",
   "metadata": {},
   "source": [
    "**Выводы:**\n",
    "\n",
    "В первой части работы мы загрузили данные, провели их предобработку, удалив стоп-слова, айпи-адреса, пунктуацию и спецсимволы. После чего были созданы эмбеддинги моделью toxic-BERT, проведено разбиение на три выборки и устранён дисбаланс классов для применения моделей, неспособных бороться с ним самостоятельно. Теперь данные готовы для обучения моделей и составления прогнозов токсичности комментариев."
   ]
  },
  {
   "cell_type": "markdown",
   "metadata": {},
   "source": [
    "## Обучение"
   ]
  },
  {
   "cell_type": "code",
   "execution_count": 14,
   "metadata": {
    "execution": {
     "iopub.execute_input": "2023-05-13T11:32:57.318457Z",
     "iopub.status.busy": "2023-05-13T11:32:57.318063Z",
     "iopub.status.idle": "2023-05-13T11:32:57.326052Z",
     "shell.execute_reply": "2023-05-13T11:32:57.325013Z",
     "shell.execute_reply.started": "2023-05-13T11:32:57.318420Z"
    }
   },
   "outputs": [],
   "source": [
    "# Функция для расчета времени выполнения ячейки\n",
    "def exec_time(start, end):\n",
    "    diff_time = end - start\n",
    "    m, s = divmod(diff_time, 60)\n",
    "    h, m = divmod(m, 60)\n",
    "    s,m,h = int(round(s, 0)), int(round(m, 0)), int(round(h, 0))\n",
    "    return (\"{0:02d}:{1:02d}:{2:02d}\".format(h, m, s))"
   ]
  },
  {
   "cell_type": "code",
   "execution_count": 15,
   "metadata": {
    "execution": {
     "iopub.execute_input": "2023-05-13T11:32:57.328452Z",
     "iopub.status.busy": "2023-05-13T11:32:57.327690Z",
     "iopub.status.idle": "2023-05-13T11:32:57.337532Z",
     "shell.execute_reply": "2023-05-13T11:32:57.336327Z",
     "shell.execute_reply.started": "2023-05-13T11:32:57.328414Z"
    }
   },
   "outputs": [],
   "source": [
    "# Создадим список для сохранения результатов моделей\n",
    "results = {}"
   ]
  },
  {
   "cell_type": "markdown",
   "metadata": {},
   "source": [
    "### Catboost"
   ]
  },
  {
   "cell_type": "markdown",
   "metadata": {},
   "source": [
    "**Здесь и далее во всех моделях скрыт перебор параметров для ускорения работы ноутбука. Также, была протестирована работа моделей на downsampled выборке и оригинальной, результаты всех моделей были значительно лучше на оригинальной выборке, потому оставлены только они.**"
   ]
  },
  {
   "cell_type": "code",
   "execution_count": 16,
   "metadata": {
    "execution": {
     "iopub.execute_input": "2023-05-13T11:32:57.339516Z",
     "iopub.status.busy": "2023-05-13T11:32:57.339161Z",
     "iopub.status.idle": "2023-05-13T11:32:57.347276Z",
     "shell.execute_reply": "2023-05-13T11:32:57.345792Z",
     "shell.execute_reply.started": "2023-05-13T11:32:57.339467Z"
    }
   },
   "outputs": [],
   "source": [
    "#os.environ[\"TOKENIZERS_PARALLELISM\"] = \"false\""
   ]
  },
  {
   "cell_type": "code",
   "execution_count": 17,
   "metadata": {
    "execution": {
     "iopub.execute_input": "2023-05-13T11:32:57.348981Z",
     "iopub.status.busy": "2023-05-13T11:32:57.348626Z",
     "iopub.status.idle": "2023-05-13T11:32:57.358112Z",
     "shell.execute_reply": "2023-05-13T11:32:57.356722Z",
     "shell.execute_reply.started": "2023-05-13T11:32:57.348947Z"
    }
   },
   "outputs": [],
   "source": [
    "# # RandomizedSearchCV\n",
    "# cb_model = cb.CatBoostClassifier(eval_metric='F1')\n",
    "# parameters = {'depth'         : [6, 8, 10, 12],\n",
    "#               'learning_rate' : [0.01, 0.025, 0.1],\n",
    "#               'iterations'    : [500, 1000]\n",
    "#              }\n",
    "# random = RandomizedSearchCV(cb_model, param_distributions=parameters, cv=3, n_jobs=-1, scoring='f1', verbose=10)\n",
    "# random.fit(X_train, y_train)"
   ]
  },
  {
   "cell_type": "code",
   "execution_count": 18,
   "metadata": {
    "execution": {
     "iopub.execute_input": "2023-05-13T11:32:57.359600Z",
     "iopub.status.busy": "2023-05-13T11:32:57.359254Z",
     "iopub.status.idle": "2023-05-13T11:33:26.211886Z",
     "shell.execute_reply": "2023-05-13T11:33:26.211010Z",
     "shell.execute_reply.started": "2023-05-13T11:32:57.359566Z"
    }
   },
   "outputs": [
    {
     "name": "stdout",
     "output_type": "stream",
     "text": [
      "Learning rate set to 0.025988\n",
      "0:\tlearn: 0.9304443\ttotal: 15.5ms\tremaining: 15.5s\n",
      "100:\tlearn: 0.9396043\ttotal: 1.49s\tremaining: 13.3s\n",
      "200:\tlearn: 0.9434061\ttotal: 2.98s\tremaining: 11.9s\n",
      "300:\tlearn: 0.9470051\ttotal: 4.45s\tremaining: 10.3s\n",
      "400:\tlearn: 0.9504699\ttotal: 6.04s\tremaining: 9.02s\n",
      "500:\tlearn: 0.9537130\ttotal: 8.24s\tremaining: 8.21s\n",
      "600:\tlearn: 0.9558830\ttotal: 9.7s\tremaining: 6.44s\n",
      "700:\tlearn: 0.9588657\ttotal: 11.1s\tremaining: 4.75s\n",
      "800:\tlearn: 0.9614106\ttotal: 12.6s\tremaining: 3.14s\n",
      "900:\tlearn: 0.9638449\ttotal: 14.1s\tremaining: 1.55s\n",
      "999:\tlearn: 0.9662803\ttotal: 15.6s\tremaining: 0us\n"
     ]
    }
   ],
   "source": [
    "# Сохраним время начала выполнения кода\n",
    "start = time.time()\n",
    "\n",
    "# Обучим модель\n",
    "cb_model = cb.CatBoostClassifier(\n",
    "         task_type='GPU',\n",
    "#         iterations=1000,\n",
    "         eval_metric='F1',\n",
    "#         class_weights=class_weights,\n",
    "#         learning_rate=0.025\n",
    "            )\n",
    "cb_model.fit(X_train, y_train, verbose=100)\n",
    "\n",
    "# Сохраним время окончания выполнения кода и время выполнения ячейки\n",
    "end = time.time()\n",
    "cb_fit_time = exec_time(start, end)"
   ]
  },
  {
   "cell_type": "code",
   "execution_count": 19,
   "metadata": {
    "execution": {
     "iopub.execute_input": "2023-05-13T11:33:26.219077Z",
     "iopub.status.busy": "2023-05-13T11:33:26.216387Z",
     "iopub.status.idle": "2023-05-13T11:33:27.192200Z",
     "shell.execute_reply": "2023-05-13T11:33:27.188809Z",
     "shell.execute_reply.started": "2023-05-13T11:33:26.219041Z"
    }
   },
   "outputs": [],
   "source": [
    "# Сохраним время начала выполнения кода\n",
    "start = time.time()\n",
    "\n",
    "# Получим предсказания модели\n",
    "cb_predictions = cb_model.predict(X_valid)\n",
    "\n",
    "# Сохраним время окончания выполнения кода и время выполнения ячейки\n",
    "end = time.time()\n",
    "cb_pred_time = exec_time(start, end)"
   ]
  },
  {
   "cell_type": "code",
   "execution_count": 20,
   "metadata": {
    "execution": {
     "iopub.execute_input": "2023-05-13T11:33:27.194028Z",
     "iopub.status.busy": "2023-05-13T11:33:27.193667Z",
     "iopub.status.idle": "2023-05-13T11:33:27.218396Z",
     "shell.execute_reply": "2023-05-13T11:33:27.217189Z",
     "shell.execute_reply.started": "2023-05-13T11:33:27.193993Z"
    }
   },
   "outputs": [],
   "source": [
    "# print('Catboost F1:',f1_score(y_valid,cb_predictions))\n",
    "# print('Catboost fitting time:', cb_fit_time)\n",
    "# print('Catboost prediction time:', cb_pred_time)\n",
    "# print(classification_report(y_valid, cb_predictions))\n",
    "results['Catboost'] = [f1_score(y_valid,cb_predictions),cb_fit_time,cb_pred_time]"
   ]
  },
  {
   "cell_type": "markdown",
   "metadata": {},
   "source": [
    "**Здесь и далее, для каждой модели, вывод результата модели скрыт, а результаты вывода сохранены в словарь для удобного отображения всех результатов в одном месте.**"
   ]
  },
  {
   "cell_type": "markdown",
   "metadata": {},
   "source": [
    "### LightGBM"
   ]
  },
  {
   "cell_type": "code",
   "execution_count": 21,
   "metadata": {
    "execution": {
     "iopub.execute_input": "2023-05-13T11:33:27.220404Z",
     "iopub.status.busy": "2023-05-13T11:33:27.219790Z",
     "iopub.status.idle": "2023-05-13T11:35:07.486865Z",
     "shell.execute_reply": "2023-05-13T11:35:07.485815Z",
     "shell.execute_reply.started": "2023-05-13T11:33:27.220369Z"
    }
   },
   "outputs": [],
   "source": [
    "# Сохраним время начала выполнения кода\n",
    "start = time.time()\n",
    "\n",
    "# Обучим модель\n",
    "lgb_model = lgb.LGBMClassifier(\n",
    "#         iterations=1000,\n",
    "#         eval_metric='F1',\n",
    "#         class_weights=class_weights,\n",
    "#         learning_rate=0.025\n",
    "            )\n",
    "lgb_model.fit(X_train, y_train)\n",
    "\n",
    "# Сохраним время окончания выполнения кода и время выполнения ячейки\n",
    "end = time.time()\n",
    "lgb_fit_time = exec_time(start, end)"
   ]
  },
  {
   "cell_type": "code",
   "execution_count": 22,
   "metadata": {
    "execution": {
     "iopub.execute_input": "2023-05-13T11:35:07.489003Z",
     "iopub.status.busy": "2023-05-13T11:35:07.488372Z",
     "iopub.status.idle": "2023-05-13T11:35:07.626391Z",
     "shell.execute_reply": "2023-05-13T11:35:07.625518Z",
     "shell.execute_reply.started": "2023-05-13T11:35:07.488964Z"
    }
   },
   "outputs": [],
   "source": [
    "# Сохраним время начала выполнения кода\n",
    "start = time.time()\n",
    "\n",
    "# Получим предсказания модели\n",
    "lgb_predictions = lgb_model.predict(X_valid)\n",
    "\n",
    "# Сохраним время окончания выполнения кода и время выполнения ячейки\n",
    "end = time.time()\n",
    "lgb_pred_time = exec_time(start, end)"
   ]
  },
  {
   "cell_type": "code",
   "execution_count": 23,
   "metadata": {
    "execution": {
     "iopub.execute_input": "2023-05-13T11:35:07.628188Z",
     "iopub.status.busy": "2023-05-13T11:35:07.627740Z",
     "iopub.status.idle": "2023-05-13T11:35:07.640944Z",
     "shell.execute_reply": "2023-05-13T11:35:07.640068Z",
     "shell.execute_reply.started": "2023-05-13T11:35:07.628152Z"
    }
   },
   "outputs": [],
   "source": [
    "# print('LightGBM F1:',f1_score(y_valid,lgb_predictions))\n",
    "# print('LightGBM fitting time:', lgb_fit_time)\n",
    "# print('LightGBM prediction time:', lgb_pred_time)\n",
    "# print(classification_report(y_valid, lgb_predictions))\n",
    "results['LightGBM'] = [f1_score(y_valid,lgb_predictions),lgb_fit_time,lgb_pred_time]"
   ]
  },
  {
   "cell_type": "markdown",
   "metadata": {},
   "source": [
    "### XGBoost"
   ]
  },
  {
   "cell_type": "code",
   "execution_count": 24,
   "metadata": {
    "execution": {
     "iopub.execute_input": "2023-05-13T11:35:07.642813Z",
     "iopub.status.busy": "2023-05-13T11:35:07.642262Z",
     "iopub.status.idle": "2023-05-13T11:35:07.647994Z",
     "shell.execute_reply": "2023-05-13T11:35:07.646907Z",
     "shell.execute_reply.started": "2023-05-13T11:35:07.642780Z"
    }
   },
   "outputs": [],
   "source": [
    "# # RandomizedSearchCV\n",
    "# xgb_model = xgb.XGBClassifier(tree_method=\"gpu_hist\")\n",
    "# parameters = {'max_depth'         : [6, 8, 10],\n",
    "#               'learning_rate' : [0.05, 0.12, 0.2],\n",
    "#               \"n_estimators\": [300, 600, 900],\n",
    "#              }\n",
    "# random = RandomizedSearchCV(xgb_model, param_distributions=parameters, cv=3, n_jobs=-1, scoring='f1',verbose=10)\n",
    "# random.fit(X_train, y_train)"
   ]
  },
  {
   "cell_type": "code",
   "execution_count": 25,
   "metadata": {
    "execution": {
     "iopub.execute_input": "2023-05-13T11:35:07.650010Z",
     "iopub.status.busy": "2023-05-13T11:35:07.649597Z",
     "iopub.status.idle": "2023-05-13T11:35:26.613353Z",
     "shell.execute_reply": "2023-05-13T11:35:26.612364Z",
     "shell.execute_reply.started": "2023-05-13T11:35:07.649973Z"
    }
   },
   "outputs": [],
   "source": [
    "# Сохраним время начала выполнения кода\n",
    "start = time.time()\n",
    "\n",
    "# Обучим модель\n",
    "xgb_model = xgb.XGBClassifier(\n",
    "        tree_method='gpu_hist',\n",
    "#         max_depth=6,\n",
    "#       eval_metric='f1',\n",
    "#         n_estimators=900,\n",
    "#         learning_rate=0.05\n",
    "            )\n",
    "xgb_model.fit(X_train, y_train)\n",
    "\n",
    "# Сохраним время окончания выполнения кода и время выполнения ячейки\n",
    "end = time.time()\n",
    "xgb_fit_time = exec_time(start, end)"
   ]
  },
  {
   "cell_type": "code",
   "execution_count": 26,
   "metadata": {
    "execution": {
     "iopub.execute_input": "2023-05-13T11:35:26.615354Z",
     "iopub.status.busy": "2023-05-13T11:35:26.614977Z",
     "iopub.status.idle": "2023-05-13T11:35:26.789269Z",
     "shell.execute_reply": "2023-05-13T11:35:26.788249Z",
     "shell.execute_reply.started": "2023-05-13T11:35:26.615319Z"
    }
   },
   "outputs": [],
   "source": [
    "# Сохраним время начала выполнения кода\n",
    "start = time.time()\n",
    "\n",
    "# Получим предсказания модели\n",
    "xgb_predictions = xgb_model.predict(X_valid)\n",
    "\n",
    "# Сохраним время окончания выполнения кода и время выполнения ячейки\n",
    "end = time.time()\n",
    "xgb_pred_time = exec_time(start, end)"
   ]
  },
  {
   "cell_type": "code",
   "execution_count": 27,
   "metadata": {
    "execution": {
     "iopub.execute_input": "2023-05-13T11:35:26.791365Z",
     "iopub.status.busy": "2023-05-13T11:35:26.790768Z",
     "iopub.status.idle": "2023-05-13T11:35:26.804518Z",
     "shell.execute_reply": "2023-05-13T11:35:26.803542Z",
     "shell.execute_reply.started": "2023-05-13T11:35:26.791327Z"
    }
   },
   "outputs": [],
   "source": [
    "# print('XGBoost F1:',f1_score(y_valid,xgb_predictions))\n",
    "# print('XGBoost fitting time:', xgb_fit_time)\n",
    "# print('XGBoost prediction time:', xgb_pred_time)\n",
    "# print(classification_report(y_valid, xgb_predictions))\n",
    "results['XGBoost'] = [f1_score(y_valid,xgb_predictions),xgb_fit_time,xgb_pred_time]"
   ]
  },
  {
   "cell_type": "markdown",
   "metadata": {},
   "source": [
    "### Логистическая регрессия"
   ]
  },
  {
   "cell_type": "code",
   "execution_count": 28,
   "metadata": {
    "execution": {
     "iopub.execute_input": "2023-05-13T11:35:26.811538Z",
     "iopub.status.busy": "2023-05-13T11:35:26.811211Z",
     "iopub.status.idle": "2023-05-13T11:37:37.109894Z",
     "shell.execute_reply": "2023-05-13T11:37:37.108434Z",
     "shell.execute_reply.started": "2023-05-13T11:35:26.811483Z"
    }
   },
   "outputs": [],
   "source": [
    "# Сохраним время начала выполнения кода\n",
    "start = time.time()\n",
    "\n",
    "# Обучим и протестируем модель линейной регрессии\n",
    "lr_model = LogisticRegression(max_iter=2000)\n",
    "lr_model.fit(X_train, y_train)\n",
    "\n",
    "# Сохраним время окончания выполнения кода и время выполнения ячейки\n",
    "end = time.time()\n",
    "lr_fit_time = exec_time(start, end)"
   ]
  },
  {
   "cell_type": "code",
   "execution_count": 29,
   "metadata": {
    "execution": {
     "iopub.execute_input": "2023-05-13T11:37:37.113355Z",
     "iopub.status.busy": "2023-05-13T11:37:37.112616Z",
     "iopub.status.idle": "2023-05-13T11:37:37.155995Z",
     "shell.execute_reply": "2023-05-13T11:37:37.154811Z",
     "shell.execute_reply.started": "2023-05-13T11:37:37.113318Z"
    }
   },
   "outputs": [],
   "source": [
    "# Сохраним время начала выполнения кода\n",
    "start = time.time()\n",
    "\n",
    "# Получим предсказания модели\n",
    "lr_predictions = lr_model.predict(X_valid)\n",
    "\n",
    "# Сохраним время окончания выполнения кода и время выполнения ячейки\n",
    "end = time.time()\n",
    "lr_pred_time = exec_time(start, end)"
   ]
  },
  {
   "cell_type": "code",
   "execution_count": 30,
   "metadata": {
    "execution": {
     "iopub.execute_input": "2023-05-13T11:37:37.158553Z",
     "iopub.status.busy": "2023-05-13T11:37:37.157846Z",
     "iopub.status.idle": "2023-05-13T11:37:37.174655Z",
     "shell.execute_reply": "2023-05-13T11:37:37.173145Z",
     "shell.execute_reply.started": "2023-05-13T11:37:37.158517Z"
    }
   },
   "outputs": [],
   "source": [
    "# print('LogisticRegression F1:',f1_score(y_valid,lr_predictions))\n",
    "# print('LogisticRegression fitting time:', lr_fit_time)\n",
    "# print('LogisticRegression prediction time:', lr_pred_time)\n",
    "# print(classification_report(y_valid, lr_predictions))\n",
    "results['LogisticRegression'] = [f1_score(y_valid,lr_predictions),lr_fit_time,lr_pred_time]"
   ]
  },
  {
   "cell_type": "markdown",
   "metadata": {},
   "source": [
    "## Выводы"
   ]
  },
  {
   "cell_type": "markdown",
   "metadata": {},
   "source": [
    "**Выведем на экран метрики всех обученных моделей.**"
   ]
  },
  {
   "cell_type": "code",
   "execution_count": 31,
   "metadata": {
    "execution": {
     "iopub.execute_input": "2023-05-13T11:37:37.177008Z",
     "iopub.status.busy": "2023-05-13T11:37:37.176315Z",
     "iopub.status.idle": "2023-05-13T11:37:37.183917Z",
     "shell.execute_reply": "2023-05-13T11:37:37.182981Z",
     "shell.execute_reply.started": "2023-05-13T11:37:37.176973Z"
    }
   },
   "outputs": [
    {
     "name": "stdout",
     "output_type": "stream",
     "text": [
      "Catboost RMSE: 0.9343168247277837\n",
      "Catboost fitting time: 00:00:29\n",
      "Catboost prediction time: 00:00:01\n",
      "- - - - - - - - - - - - - - - \n",
      "LightGBM RMSE: 0.9306582189369941\n",
      "LightGBM fitting time: 00:01:40\n",
      "LightGBM prediction time: 00:00:00\n",
      "- - - - - - - - - - - - - - - \n",
      "XGBoost RMSE: 0.9338028169014085\n",
      "XGBoost fitting time: 00:00:19\n",
      "XGBoost prediction time: 00:00:00\n",
      "- - - - - - - - - - - - - - - \n",
      "LogisticRegression RMSE: 0.9305114638447971\n",
      "LogisticRegression fitting time: 00:02:10\n",
      "LogisticRegression prediction time: 00:00:00\n",
      "- - - - - - - - - - - - - - - \n"
     ]
    }
   ],
   "source": [
    "for elem in results:\n",
    "    print(elem, 'RMSE:', results[elem][0])\n",
    "    print(elem, 'fitting time:', results[elem][1])\n",
    "    print(elem, 'prediction time:', results[elem][2])\n",
    "    print('- ' * 15)"
   ]
  },
  {
   "cell_type": "markdown",
   "metadata": {},
   "source": [
    "**Полученные метрики говорят о том, что все четыре модели показали очень близкие результаты как по метрике F1, так и по времени обучения и предсказания. Далее проведём тестирование модели Catboost с наилучшей метрикой F1 на тестовых данных.**"
   ]
  },
  {
   "cell_type": "code",
   "execution_count": 32,
   "metadata": {
    "execution": {
     "iopub.execute_input": "2023-05-13T11:37:37.186119Z",
     "iopub.status.busy": "2023-05-13T11:37:37.185419Z",
     "iopub.status.idle": "2023-05-13T11:37:38.555756Z",
     "shell.execute_reply": "2023-05-13T11:37:38.554732Z",
     "shell.execute_reply.started": "2023-05-13T11:37:37.186086Z"
    }
   },
   "outputs": [
    {
     "name": "stdout",
     "output_type": "stream",
     "text": [
      "Catboost F1 на тестовой выборке: 0.9370912488321396\n"
     ]
    }
   ],
   "source": [
    "# Получим предсказания по тестовой выборке\n",
    "cb_test_predictions = cb_model.predict(X_test)\n",
    "\n",
    "# Выведем на экран итоговую метрику\n",
    "print('Catboost F1 на тестовой выборке:',f1_score(y_test,cb_test_predictions))"
   ]
  },
  {
   "cell_type": "code",
   "execution_count": 33,
   "metadata": {
    "execution": {
     "iopub.execute_input": "2023-05-13T11:37:38.558268Z",
     "iopub.status.busy": "2023-05-13T11:37:38.557544Z",
     "iopub.status.idle": "2023-05-13T11:37:38.579468Z",
     "shell.execute_reply": "2023-05-13T11:37:38.577548Z",
     "shell.execute_reply.started": "2023-05-13T11:37:38.558231Z"
    }
   },
   "outputs": [
    {
     "name": "stdout",
     "output_type": "stream",
     "text": [
      "Dummy F1 на тестовой выборке: 0.0\n"
     ]
    }
   ],
   "source": [
    "# Создаем экземпляр дамми модели\n",
    "dummy_model = DummyClassifier(strategy='most_frequent')\n",
    "\n",
    "# Обучаем дамми модель на тренировочных данных\n",
    "dummy_model.fit(X_train, y_train)\n",
    "\n",
    "# Получаем предсказания дамми модели на тестовых данных\n",
    "dummy_pred = dummy_model.predict(X_test)\n",
    "\n",
    "# Выведем на экран итоговую метрику\n",
    "print('Dummy F1 на тестовой выборке:',f1_score(y_test,dummy_pred))"
   ]
  },
  {
   "cell_type": "markdown",
   "metadata": {},
   "source": [
    "**ИТОГОВЫЙ ВЫВОД:**\n",
    "\n",
    "В ходе работы мы подготовили данные, после чего на их основании построили эмбеддинги предобученной моделью Toxic_BERT. После чего были обучены четыре модели для предсказания токсичности комментариев, показавшие очень близкие результаты как по метрике F1, так и по времени обучения и предсказания. Из моделей для финального тестирования была выбрана модель Catboost, имеющая наивысшую метрику F1 и хорошее время обучения. Тестирование на тестовой выборке показало стабильность модели, итоговая метрика F1 = 0.937. На основании исследования мы можем рекомендовать связку из предобученной модели Toxic-BERT и модели классификатора Catboost для оценки токсичности комментариев."
   ]
  }
 ],
 "metadata": {
  "kernelspec": {
   "display_name": "Python 3 (ipykernel)",
   "language": "python",
   "name": "python3"
  },
  "language_info": {
   "codemirror_mode": {
    "name": "ipython",
    "version": 3
   },
   "file_extension": ".py",
   "mimetype": "text/x-python",
   "name": "python",
   "nbconvert_exporter": "python",
   "pygments_lexer": "ipython3",
   "version": "3.9.13"
  },
  "toc": {
   "base_numbering": 1,
   "nav_menu": {},
   "number_sections": true,
   "sideBar": true,
   "skip_h1_title": true,
   "title_cell": "Содержание",
   "title_sidebar": "Contents",
   "toc_cell": true,
   "toc_position": {
    "height": "calc(100% - 180px)",
    "left": "10px",
    "top": "150px",
    "width": "302.391px"
   },
   "toc_section_display": true,
   "toc_window_display": false
  }
 },
 "nbformat": 4,
 "nbformat_minor": 4
}
